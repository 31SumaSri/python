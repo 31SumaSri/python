{
 "cells": [
  {
   "cell_type": "code",
   "execution_count": 1,
   "id": "b0ed45ad-7884-4da3-bbcc-822d4ea59b4a",
   "metadata": {},
   "outputs": [
    {
     "name": "stdout",
     "output_type": "stream",
     "text": [
      "before swapping 1 2\n",
      "after swapping 2 1\n"
     ]
    }
   ],
   "source": [
    "a=1\n",
    "b=2\n",
    "print(\"before swapping\",a,b)\n",
    "a,b=b,a\n",
    "print(\"after swapping\",a,b)"
   ]
  },
  {
   "cell_type": "code",
   "execution_count": 3,
   "id": "11d39c24-fbc3-441b-8f24-fb1926a6f0d3",
   "metadata": {},
   "outputs": [
    {
     "name": "stdin",
     "output_type": "stream",
     "text": [
      "enter the value of a: -5\n",
      "enter the value of b: 7\n"
     ]
    },
    {
     "name": "stdout",
     "output_type": "stream",
     "text": [
      "before swap -5 7\n",
      "after swap 7 -5\n"
     ]
    }
   ],
   "source": [
    "a=int(input(\"enter the value of a:\"))\n",
    "b=int(input(\"enter the value of b:\"))\n",
    "print(\"before swap\",a,b)\n",
    "temp=a\n",
    "a=b\n",
    "b=temp\n",
    "print(\"after swap\",a,b)"
   ]
  },
  {
   "cell_type": "code",
   "execution_count": 5,
   "id": "dfee412e-fd48-4410-9a9e-071cb1cbcf33",
   "metadata": {},
   "outputs": [
    {
     "name": "stdin",
     "output_type": "stream",
     "text": [
      "enter the value of a: 11\n",
      "enter the value of b: 22\n"
     ]
    },
    {
     "name": "stdout",
     "output_type": "stream",
     "text": [
      "before swapping a=  11 b=  22\n",
      "after swapping a=  22 b=  11\n"
     ]
    }
   ],
   "source": [
    "a=int(input(\"enter the value of a:\"))\n",
    "b=int(input(\"enter the value of b:\"))\n",
    "print(\"before swapping a= \",a,\"b= \",b)\n",
    "a=a+b\n",
    "b=a-b\n",
    "a=a-b\n",
    "print(\"after swapping a= \",a,\"b= \",b)"
   ]
  },
  {
   "cell_type": "code",
   "execution_count": 9,
   "id": "c95813bc-3d34-46b4-a69b-96f0f0489d4f",
   "metadata": {},
   "outputs": [
    {
     "name": "stdin",
     "output_type": "stream",
     "text": [
      "enter the value of a: 5\n",
      "enter the value of b: 7\n"
     ]
    },
    {
     "name": "stdout",
     "output_type": "stream",
     "text": [
      "before swapping a=  5 b=  7\n",
      "after swapping a=  7.0 b=  5.0\n"
     ]
    }
   ],
   "source": [
    "a=int(input(\"enter the value of a:\"))\n",
    "b=int(input(\"enter the value of b:\"))\n",
    "print(\"before swapping a= \",a,\"b= \",b)\n",
    "a=a*b\n",
    "b=a/b\n",
    "a=a/b\n",
    "print(\"after swapping a= \",a,\"b= \",b)"
   ]
  },
  {
   "cell_type": "code",
   "execution_count": 21,
   "id": "3f8f8716-a1dc-42ad-a943-8900d2226e6a",
   "metadata": {},
   "outputs": [
    {
     "name": "stdin",
     "output_type": "stream",
     "text": [
      "enter the value of r: 7.5\n"
     ]
    },
    {
     "name": "stdout",
     "output_type": "stream",
     "text": [
      "176.7144375\n",
      "47.12385\n"
     ]
    }
   ],
   "source": [
    "r=float(input(\"enter the value of r:\"))\n",
    "pi=3.14159\n",
    "area=(pi*r**2)\n",
    "circumference=(2*pi*r)\n",
    "print(area)\n",
    "print(circumference)"
   ]
  },
  {
   "cell_type": "code",
   "execution_count": 23,
   "id": "4cf8e61e-b95f-4f70-8729-6b59b29c41f1",
   "metadata": {},
   "outputs": [
    {
     "name": "stdin",
     "output_type": "stream",
     "text": [
      "enter the value of r: 5\n"
     ]
    },
    {
     "name": "stdout",
     "output_type": "stream",
     "text": [
      "78.53981633974483\n",
      "31.41592653589793\n"
     ]
    }
   ],
   "source": [
    "from math import pi\n",
    "r=float(input(\"enter the value of r:\"))\n",
    "area=(pi*r**2)\n",
    "circumference=(2*pi*r)\n",
    "print(area)\n",
    "print(circumference)"
   ]
  },
  {
   "cell_type": "code",
   "execution_count": 25,
   "id": "665ac736-45bc-4657-a321-30f01dcc9b19",
   "metadata": {},
   "outputs": [
    {
     "name": "stdout",
     "output_type": "stream",
     "text": [
      "2.718281828459045\n"
     ]
    }
   ],
   "source": [
    "from math import e\n",
    "print(e)"
   ]
  },
  {
   "cell_type": "code",
   "execution_count": 27,
   "id": "04da0059-78fe-48a2-95d8-c935a425c366",
   "metadata": {},
   "outputs": [
    {
     "name": "stdout",
     "output_type": "stream",
     "text": [
      "4.0\n",
      "8.0\n"
     ]
    }
   ],
   "source": [
    "from math import sqrt, pow\n",
    "n=16\n",
    "print(sqrt(n))\n",
    "print(pow(2,3))"
   ]
  },
  {
   "cell_type": "code",
   "execution_count": 29,
   "id": "94f9dc08-f99e-4c1e-99aa-26ffd788ac0d",
   "metadata": {},
   "outputs": [
    {
     "name": "stdout",
     "output_type": "stream",
     "text": [
      "sin: 0.49999999999999994\n",
      "cos: 0.8660254037844387\n",
      "tan: 0.5773502691896257\n"
     ]
    }
   ],
   "source": [
    "from math import sin,cos,tan,radians\n",
    "angle=30\n",
    "print(\"sin:\",sin(radians(angle)))\n",
    "print(\"cos:\",cos(radians(angle)))\n",
    "print(\"tan:\",tan(radians(angle)))"
   ]
  },
  {
   "cell_type": "code",
   "execution_count": 31,
   "id": "c8ebdc80-1dbf-4e36-bdad-264d340f3c2e",
   "metadata": {},
   "outputs": [
    {
     "name": "stdout",
     "output_type": "stream",
     "text": [
      "floor: 7\n",
      "ceil: 8\n"
     ]
    }
   ],
   "source": [
    "from math import floor,ceil\n",
    "num=7.6\n",
    "print(\"floor:\",floor(num))\n",
    "print(\"ceil:\",ceil(num))\n"
   ]
  },
  {
   "cell_type": "code",
   "execution_count": 33,
   "id": "ae12affd-8baa-4e2a-b9b1-3f6f89bdd8ce",
   "metadata": {},
   "outputs": [
    {
     "name": "stdout",
     "output_type": "stream",
     "text": [
      "natural log: 1.0\n",
      "log base 10 of 100: 2.0\n",
      "e to the power 2: 7.38905609893065\n"
     ]
    }
   ],
   "source": [
    "from math import log,log10,exp\n",
    "print(\"natural log:\",log(e))\n",
    "print(\"log base 10 of 100:\",log10(100))\n",
    "print(\"e to the power 2:\",exp(2))"
   ]
  },
  {
   "cell_type": "code",
   "execution_count": 35,
   "id": "62c31084-0686-415f-b94c-f4f6f688fcf6",
   "metadata": {},
   "outputs": [
    {
     "name": "stdout",
     "output_type": "stream",
     "text": [
      "current time: 2025-05-09 11:16:24.753717\n",
      "date: 2025-05-09\n",
      "time: 11:16:24.753717\n"
     ]
    }
   ],
   "source": [
    "from datetime import datetime\n",
    "now= datetime.now()\n",
    "print(\"current time:\",now)\n",
    "print(\"date:\",now.date())\n",
    "print(\"time:\",now.time())"
   ]
  },
  {
   "cell_type": "code",
   "execution_count": 37,
   "id": "c9eaaafd-35eb-4424-bf26-e1c874d8a25d",
   "metadata": {},
   "outputs": [
    {
     "name": "stdout",
     "output_type": "stream",
     "text": [
      "current time: 2025-05-09 11:18:52.689761\n",
      "date: 2025-05-09\n",
      "time: 11:18:52.689761\n"
     ]
    }
   ],
   "source": [
    "from datetime import datetime\n",
    "now= datetime.now()\n",
    "print(\"current time:\",now)\n",
    "print(\"date:\",now.date())\n",
    "print(\"time:\",now.time())"
   ]
  },
  {
   "cell_type": "code",
   "execution_count": 41,
   "id": "1633f167-ad08-4833-aee5-f266dae79960",
   "metadata": {},
   "outputs": [
    {
     "name": "stdout",
     "output_type": "stream",
     "text": [
      "                                  2025\n",
      "\n",
      "      January                   February                   March\n",
      "Mo Tu We Th Fr Sa Su      Mo Tu We Th Fr Sa Su      Mo Tu We Th Fr Sa Su\n",
      "       1  2  3  4  5                      1  2                      1  2\n",
      " 6  7  8  9 10 11 12       3  4  5  6  7  8  9       3  4  5  6  7  8  9\n",
      "13 14 15 16 17 18 19      10 11 12 13 14 15 16      10 11 12 13 14 15 16\n",
      "20 21 22 23 24 25 26      17 18 19 20 21 22 23      17 18 19 20 21 22 23\n",
      "27 28 29 30 31            24 25 26 27 28            24 25 26 27 28 29 30\n",
      "                                                    31\n",
      "\n",
      "       April                      May                       June\n",
      "Mo Tu We Th Fr Sa Su      Mo Tu We Th Fr Sa Su      Mo Tu We Th Fr Sa Su\n",
      "    1  2  3  4  5  6                1  2  3  4                         1\n",
      " 7  8  9 10 11 12 13       5  6  7  8  9 10 11       2  3  4  5  6  7  8\n",
      "14 15 16 17 18 19 20      12 13 14 15 16 17 18       9 10 11 12 13 14 15\n",
      "21 22 23 24 25 26 27      19 20 21 22 23 24 25      16 17 18 19 20 21 22\n",
      "28 29 30                  26 27 28 29 30 31         23 24 25 26 27 28 29\n",
      "                                                    30\n",
      "\n",
      "        July                     August                  September\n",
      "Mo Tu We Th Fr Sa Su      Mo Tu We Th Fr Sa Su      Mo Tu We Th Fr Sa Su\n",
      "    1  2  3  4  5  6                   1  2  3       1  2  3  4  5  6  7\n",
      " 7  8  9 10 11 12 13       4  5  6  7  8  9 10       8  9 10 11 12 13 14\n",
      "14 15 16 17 18 19 20      11 12 13 14 15 16 17      15 16 17 18 19 20 21\n",
      "21 22 23 24 25 26 27      18 19 20 21 22 23 24      22 23 24 25 26 27 28\n",
      "28 29 30 31               25 26 27 28 29 30 31      29 30\n",
      "\n",
      "      October                   November                  December\n",
      "Mo Tu We Th Fr Sa Su      Mo Tu We Th Fr Sa Su      Mo Tu We Th Fr Sa Su\n",
      "       1  2  3  4  5                      1  2       1  2  3  4  5  6  7\n",
      " 6  7  8  9 10 11 12       3  4  5  6  7  8  9       8  9 10 11 12 13 14\n",
      "13 14 15 16 17 18 19      10 11 12 13 14 15 16      15 16 17 18 19 20 21\n",
      "20 21 22 23 24 25 26      17 18 19 20 21 22 23      22 23 24 25 26 27 28\n",
      "27 28 29 30 31            24 25 26 27 28 29 30      29 30 31\n",
      "\n"
     ]
    }
   ],
   "source": [
    "import calendar\n",
    "year=2025\n",
    "print(calendar.calendar(year))"
   ]
  },
  {
   "cell_type": "code",
   "execution_count": 47,
   "id": "4b5c4e07-a77c-471a-816d-6c532f091a70",
   "metadata": {},
   "outputs": [
    {
     "name": "stdout",
     "output_type": "stream",
     "text": [
      "      May 2027\n",
      "Mo Tu We Th Fr Sa Su\n",
      "                1  2\n",
      " 3  4  5  6  7  8  9\n",
      "10 11 12 13 14 15 16\n",
      "17 18 19 20 21 22 23\n",
      "24 25 26 27 28 29 30\n",
      "31\n",
      "\n"
     ]
    }
   ],
   "source": [
    "import calendar\n",
    "print(calendar.month(2027,5))"
   ]
  },
  {
   "cell_type": "code",
   "execution_count": 49,
   "id": "8127f3e1-7776-46d0-b863-ecb5068cd6cb",
   "metadata": {},
   "outputs": [
    {
     "name": "stdout",
     "output_type": "stream",
     "text": [
      "difference in dates: 128\n"
     ]
    }
   ],
   "source": [
    "from datetime import date\n",
    "d1=date(2025,5,9)\n",
    "d2=date(2025,1,1)\n",
    "diff=d1-d2\n",
    "print(\"difference in dates:\",diff.days)"
   ]
  },
  {
   "cell_type": "code",
   "execution_count": 55,
   "id": "cea90019-2449-410f-9137-8b46fca1d6e4",
   "metadata": {},
   "outputs": [
    {
     "name": "stdout",
     "output_type": "stream",
     "text": [
      "today: Friday\n"
     ]
    }
   ],
   "source": [
    " from datetime import date\n",
    "today=date.today()\n",
    "name=today.strftime(\"%A\")\n",
    "print(\"today:\",name)"
   ]
  },
  {
   "cell_type": "code",
   "execution_count": 61,
   "id": "37a29ecc-2c57-47cb-ac47-d97ae1fc812f",
   "metadata": {},
   "outputs": [
    {
     "name": "stdout",
     "output_type": "stream",
     "text": [
      "firstday: Thu,25-05-01\n",
      "lastday: Sat,25-05-31\n"
     ]
    }
   ],
   "source": [
    "import calendar\n",
    "from datetime import date\n",
    "year=2025\n",
    "month=5\n",
    "fday=date(year,month,1)\n",
    "lday=date(year,month,calendar.monthrange(year,month)[1])\n",
    "print(\"firstday:\",fday.strftime(\"%a,%y-%m-%d\"))\n",
    "print(\"lastday:\",lday.strftime(\"%a,%y-%m-%d\"))\n"
   ]
  },
  {
   "cell_type": "code",
   "execution_count": null,
   "id": "9eb2371f-0e6f-47fb-9445-b0af665e6749",
   "metadata": {},
   "outputs": [],
   "source": []
  }
 ],
 "metadata": {
  "kernelspec": {
   "display_name": "Python 3 (ipykernel)",
   "language": "python",
   "name": "python3"
  },
  "language_info": {
   "codemirror_mode": {
    "name": "ipython",
    "version": 3
   },
   "file_extension": ".py",
   "mimetype": "text/x-python",
   "name": "python",
   "nbconvert_exporter": "python",
   "pygments_lexer": "ipython3",
   "version": "3.12.7"
  }
 },
 "nbformat": 4,
 "nbformat_minor": 5
}
